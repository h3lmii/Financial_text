{
  "cells": [
    {
      "cell_type": "code",
      "execution_count": 10,
      "metadata": {
        "id": "_qMtHu8La4dg"
      },
      "outputs": [],
      "source": [
        "import spacy\n",
        "nlp = spacy.load(\"en_core_web_sm\")\n",
        "\n",
        "nlp.max_length = 1198623"
      ]
    },
    {
      "cell_type": "code",
      "execution_count": 2,
      "metadata": {
        "id": "9iGJVi6gbMfi"
      },
      "outputs": [],
      "source": [
        "def read_file(filepath):\n",
        "    \n",
        "    with open(filepath) as f:\n",
        "        str_text = f.read()\n",
        "    \n",
        "    return str_text"
      ]
    },
    {
      "cell_type": "code",
      "source": [
        "d = open('ifs_report_dataset.txt', 'r', encoding='windows-1252').read()\n",
        "d\n"
      ],
      "metadata": {
        "colab": {
          "base_uri": "https://localhost:8080/",
          "height": 157
        },
        "id": "fG6wky2yym-9",
        "outputId": "487d6e24-cb6f-4454-a53c-b9896a86385b"
      },
      "execution_count": 41,
      "outputs": [
        {
          "output_type": "execute_result",
          "data": {
            "text/plain": [
              "'The IFRS Foundation is a not-for-profit organisationestablished to develop—in the public interest—highquality,understandable, enforceable and globally accepted accounting and sustainability disclosure standards for general purpose financial reporting, and to promote and facilitate their adoption.\\nThe IFRS Foundation Trustees oversee the two boards; they, in turn, are accountable to a Monitoring Board of public authorities.\\nOur mission is to develop IFRS Standards that bring transparency, accountability and efficiency to financial markets around the world.\\nOur work serves the public interest by fostering trust, growth and long-term financial stability in the global economy.\\nThis report covers the financial year ended 31 December 2021 and was authorised for issue in March 2022.\\nWe have sought to keep this report concise, with links to further information on our website.\\nIf you have questions or feedback on the report, please email communications@ifrs.org.\\nTwenty years ago, the IFRS Foundation (then known as the IASC Foundation) set out on an ambitious journey to create a global language for financial reporting, now known as IFRS Accounting Standards.\\nIt was a demand-led initiative responding to investors’ needs to compare the financial performance of companies around the world on a like-for-like basis. This further gained momentum following the Asian financial crisis and other market failures.\\nToday, IFRS Accounting Standards are required for use by more than 140 jurisdictions.\\nThe Accounting Standards are the world’s closest thing to a truly global language for financial reporting\\nMoreover, the IFRS Foundation and the International Accounting Standards Board (IASB) as its standard-setting board are held in high regard as an integral part of the fabric of the global financial system.\\nDuring 2021, we said goodbye to Hans Hoogervorst after he had completed his second five-year term as Chair of the IASB.\\nHans provided strong and effective leadership—helping navigate, among other things, the IASB’s response to the global financial crisis and the introduction of major enhancements to IFRS Accounting Standards, including new financial instruments and lease accounting requirements, as well as enhanced revenue reporting requirements.\\nWe are pleased to welcome Andreas Barckow as Hans’s successor.\\nAndreas has already made impact on the organisation and we look forward to seeing the IASB further develop under his leadership.\\nFinally, let me say a few words about covid-19.\\nThe challenging backdrop of a global pandemic has presented many difficulties for all organisations and their staff\\nOur first thought must always be with those directly affected by the virus.\\nIn keeping with our values, we continued to put our people’s well-being first—both staff and our stakeholders.\\nThe direction of the pandemic is uncertain and we will seek to use lessons learned, such as the use of technology for global collaboration and more flexible working practices.\\nenhanced widespread stakeholder engagement on strategic priorities, particularly on sustainability-related disclosures.\\nconducted outreach on a range of consultation documents published by the Trustees and the IASB.\\norganised a virtual World Standard-setters Conference in September with nearly 140 participants from 70 countries and more than 30 presenters.\\norganised a virtual IFRS Foundation Conference in June with over 270 delegates and nearly 50 presenters from over 40 countries.\\ncontinued efforts to develop staff through coaching, training and other career progression support.\\ncontinued to focus on supporting staff throughout the period of remote working due to covid-19 and the transition to returning to the office, including providing training on hybrid working and giving priority to their physical and mental wellbeing.\\nsupported staff through significant levels of change, including change in leadership of the IASB and the creation of the ISSB, through regular and open communication.\\nimplemented new processes and upgraded infrastructure to ensure the Foundation is a safe place of work for staff returning to the office as covid-19 restrictions allowed.\\nmade progress in all areas of the Business Process and Technology programme to improve how we work digitally and engage with stakeholders using modern systems and processes by implementing a new customer relationship management system and an enhanced website platform.\\nintroduced the IFRS Standards Navigator, which improved how our web users access and use our issued Standards.\\nmaintained and enhanced internal technology systems to support hybrid working.\\ndeveloped IFRS Accounting Taxonomy updates reflecting requirements in IFRS Accounting Standards issued during the year and improvements to the technology underpinning the Taxonomy.\\nexplored digital implications for some IASB presentation and disclosure proposals.\\nsupported regulators using or adopting the IFRS Accounting Taxonomy.\\ndeepened engagement with partners in the digital reporting community to facilitate digital consumption of financial information on a global basis.\\nconducted early exploratory work and provided input on the digital reporting strategy for the ISSB.\\nissued several final narrow-scope amendments and exposure drafts proposing narrow-scope amendments.\\nresponded to submissions to the Interpretations Committee, including by publishing agenda decisions.\\npublished educational materials to support companies in applying going concern requirements.\\nworked to reduce unnecessary complexity for, and cost to, preparers in applying our Standards, while improving the quality of information provided to investors.\\ndrafted clear Standards with support from dedicated editorial and translation teams, and external reviewers.\\nmade the Standards and related materials more accessible, for example, by publishing IFRS Accounting Standards with annotations and cross-references to other materials, publishing semi-annual compilations of agenda decisions and continuing to build content on the IFRS Standards Navigator, the modernised platform for digital access to IFRS Accounting Standards launched in 2021.\\nanalysed feedback to the Request for Information Comprehensive Review of the IFRS for SMEs Accounting Standard published in 2020.\\ndeveloped possible changes to the IFRS for SMEs Accounting Standard to reflect new requirements in IFRS Accounting Standards.\\ncomplete consolidation of CDSB and VRF, including developing an operating model, building on the resources and expertise from all organisations.\\nfocus on the well-being and development of staff, and support of stakeholders during the organisational transition.\\ncontinue the roll-out of projects in our Business Process and Technology Programme, including a new finance system and a new technical feedback database.\\nincorporate lessons from virtual stakeholder engagement practices during the pandemic to deepen and broaden stakeholder engagement post-pandemic.\\nmonitor the response to our one-year hybridworking trial to ensure the organisation adopts best working practices.\\nin the year ahead, the Foundation will consider its own reporting on sustainability and how it is measuring, analysing and reporting on its performance.\\npublish a feedback statement and finalise the IASB’s priorities for 2022 to 2026 in response to the Third Agenda Consultation.\\nadvance our technical accounting projects, including Primary Financial Statements and Goodwill and Impairment.\\ncontinue supporting consistent application of IFRS Accounting Standards.\\ncontinue considering ways to increase the understandability and accessibility of IFRS Accounting Standards.\\ncontinue developing the IFRS Accounting Taxonomy and supporting regulators that adopt it.\\npublish an exposure draft proposing amendments to the IFRS for SMEs Accounting Standard, informed by feedback to the comprehensive review.\\nassess whether our IFRS Accounting Standards work as intended by completing the Postimplementation Review of IFRS Standards for group accounting (IFRS 10, IFRS 11 and IFRS 12) and the Post-implementation Review of IFRS 9 (classification and measurement requirements), and beginning the Post-implementation Review of IFRS 15.\\nwork in close cooperation with the ISSB to ensure alignment and compatibility between IFRS Accounting Standards and IFRS Sustainability Disclosure Standards.\\n'"
            ],
            "application/vnd.google.colaboratory.intrinsic+json": {
              "type": "string"
            }
          },
          "metadata": {},
          "execution_count": 41
        }
      ]
    },
    {
      "cell_type": "code",
      "source": [
        "sentences=[]\n",
        "for sent in nlp(d).sents:\n",
        "  sentences.append(sent)\n",
        "len(sentences)"
      ],
      "metadata": {
        "colab": {
          "base_uri": "https://localhost:8080/"
        },
        "id": "YUK9m24NzR5l",
        "outputId": "4895ec93-fb1a-4295-97f0-a0a8c74e4181"
      },
      "execution_count": 42,
      "outputs": [
        {
          "output_type": "execute_result",
          "data": {
            "text/plain": [
              "50"
            ]
          },
          "metadata": {},
          "execution_count": 42
        }
      ]
    },
    {
      "cell_type": "code",
      "source": [
        "type(sentences[0].text),type(sentences[0])"
      ],
      "metadata": {
        "colab": {
          "base_uri": "https://localhost:8080/"
        },
        "id": "K8ZHoF6z1SBO",
        "outputId": "7e14a81d-e38a-40e0-8bc7-e424d968b940"
      },
      "execution_count": 43,
      "outputs": [
        {
          "output_type": "execute_result",
          "data": {
            "text/plain": [
              "(str, spacy.tokens.span.Span)"
            ]
          },
          "metadata": {},
          "execution_count": 43
        }
      ]
    },
    {
      "cell_type": "code",
      "source": [
        "import string\n",
        "def clean_sentence(sent):\n",
        "    sent = \"\".join(v for v in sent if v not in string.punctuation).lower()\n",
        "    sent = sent.encode(\"utf8\").decode(\"ascii\",'ignore')\n",
        "    return sent \n"
      ],
      "metadata": {
        "id": "c1MPdd1sYUpk"
      },
      "execution_count": 47,
      "outputs": []
    },
    {
      "cell_type": "code",
      "source": [
        "train_data = [clean_sentence(x.text) for x in sentences]\n",
        "train_data[:5]"
      ],
      "metadata": {
        "colab": {
          "base_uri": "https://localhost:8080/"
        },
        "id": "GTpdcWBq5GKJ",
        "outputId": "a68affd9-3018-4e3f-86ab-3be3f48e5cc3"
      },
      "execution_count": 49,
      "outputs": [
        {
          "output_type": "execute_result",
          "data": {
            "text/plain": [
              "['the ifrs foundation is a notforprofit organisationestablished to developin the public interesthighqualityunderstandable enforceable and globally accepted accounting and sustainability disclosure standards for general purpose financial reporting and to promote and facilitate their adoption\\n',\n",
              " 'the ifrs foundation trustees oversee the two boards they in turn are accountable to a monitoring board of public authorities\\n',\n",
              " 'our mission is to develop ifrs standards that bring transparency accountability and efficiency to financial markets around the world\\n',\n",
              " 'our work serves the public interest by fostering trust growth and longterm financial stability in the global economy\\n',\n",
              " 'this report covers the financial year ended 31 december 2021 and was authorised for issue in march 2022\\n']"
            ]
          },
          "metadata": {},
          "execution_count": 49
        }
      ]
    },
    {
      "cell_type": "code",
      "source": [
        "#tokenization:\n",
        "\n",
        "from keras.preprocessing.text import Tokenizer\n",
        "tokenizer = Tokenizer()\n",
        "\n",
        "tokenizer.fit_on_texts(train_data)\n",
        "total_words = len(tokenizer.word_index) + 1"
      ],
      "metadata": {
        "id": "JYT8grYO7IxF"
      },
      "execution_count": 64,
      "outputs": []
    },
    {
      "cell_type": "code",
      "source": [
        "total_words"
      ],
      "metadata": {
        "colab": {
          "base_uri": "https://localhost:8080/"
        },
        "id": "RtpKdHge7ncc",
        "outputId": "4ebcbf49-c6c8-42ba-ecf5-d27976c8fc5f"
      },
      "execution_count": 67,
      "outputs": [
        {
          "output_type": "execute_result",
          "data": {
            "text/plain": [
              "500"
            ]
          },
          "metadata": {},
          "execution_count": 67
        }
      ]
    },
    {
      "cell_type": "code",
      "source": [
        "tokenizer.word_index"
      ],
      "metadata": {
        "colab": {
          "base_uri": "https://localhost:8080/"
        },
        "id": "A1tBqceB8ZYz",
        "outputId": "acd00a38-a91f-43ff-a4f0-59032f4ef216"
      },
      "execution_count": 68,
      "outputs": [
        {
          "output_type": "execute_result",
          "data": {
            "text/plain": [
              "{'the': 1,\n",
              " 'and': 2,\n",
              " 'to': 3,\n",
              " 'ifrs': 4,\n",
              " 'of': 5,\n",
              " 'accounting': 6,\n",
              " 'standards': 7,\n",
              " 'in': 8,\n",
              " 'for': 9,\n",
              " 'a': 10,\n",
              " 'on': 11,\n",
              " 'our': 12,\n",
              " 'financial': 13,\n",
              " 'as': 14,\n",
              " 'with': 15,\n",
              " 'by': 16,\n",
              " 'foundation': 17,\n",
              " 'reporting': 18,\n",
              " 'global': 19,\n",
              " 'we': 20,\n",
              " 'including': 21,\n",
              " 'staff': 22,\n",
              " 'work': 23,\n",
              " 'iasb': 24,\n",
              " 'new': 25,\n",
              " 'requirements': 26,\n",
              " 'is': 27,\n",
              " 'are': 28,\n",
              " 'feedback': 29,\n",
              " 'an': 30,\n",
              " 'technology': 31,\n",
              " 'working': 32,\n",
              " 'from': 33,\n",
              " 'support': 34,\n",
              " 'digital': 35,\n",
              " 'review': 36,\n",
              " 'information': 37,\n",
              " 'other': 38,\n",
              " 'use': 39,\n",
              " 'more': 40,\n",
              " 'during': 41,\n",
              " 'enhanced': 42,\n",
              " 'engagement': 43,\n",
              " 'taxonomy': 44,\n",
              " 'continue': 45,\n",
              " 'public': 46,\n",
              " 'sustainability': 47,\n",
              " 'disclosure': 48,\n",
              " 'their': 49,\n",
              " 'board': 50,\n",
              " 'develop': 51,\n",
              " 'world': 52,\n",
              " 'this': 53,\n",
              " 'report': 54,\n",
              " 'year': 55,\n",
              " '2021': 56,\n",
              " 'further': 57,\n",
              " 'it': 58,\n",
              " 'its': 59,\n",
              " 'system': 60,\n",
              " 'provided': 61,\n",
              " 'response': 62,\n",
              " 'made': 63,\n",
              " 'covid19': 64,\n",
              " 'pandemic': 65,\n",
              " 'all': 66,\n",
              " 'continued': 67,\n",
              " 'wellbeing': 68,\n",
              " 'stakeholders': 69,\n",
              " 'practices': 70,\n",
              " 'stakeholder': 71,\n",
              " 'published': 72,\n",
              " 'virtual': 73,\n",
              " 'through': 74,\n",
              " 'supporting': 75,\n",
              " 'issb': 76,\n",
              " 'ensure': 77,\n",
              " 'how': 78,\n",
              " 'issued': 79,\n",
              " 'amendments': 80,\n",
              " 'publishing': 81,\n",
              " 'agenda': 82,\n",
              " 'materials': 83,\n",
              " 'smes': 84,\n",
              " 'standard': 85,\n",
              " 'postimplementation': 86,\n",
              " 'facilitate': 87,\n",
              " 'trustees': 88,\n",
              " 'that': 89,\n",
              " 'around': 90,\n",
              " 'was': 91,\n",
              " '2022': 92,\n",
              " 'have': 93,\n",
              " 'website': 94,\n",
              " 'or': 95,\n",
              " 'known': 96,\n",
              " 'language': 97,\n",
              " 'investors': 98,\n",
              " 'performance': 99,\n",
              " 'companies': 100,\n",
              " 'basis': 101,\n",
              " 'crisis': 102,\n",
              " 'than': 103,\n",
              " '140': 104,\n",
              " 'hans': 105,\n",
              " 'his': 106,\n",
              " 'iasbs': 107,\n",
              " 'andreas': 108,\n",
              " 'has': 109,\n",
              " 'organisation': 110,\n",
              " 'leadership': 111,\n",
              " 'organisations': 112,\n",
              " 'will': 113,\n",
              " 'lessons': 114,\n",
              " 'priorities': 115,\n",
              " 'conducted': 116,\n",
              " 'consultation': 117,\n",
              " 'organised': 118,\n",
              " 'conference': 119,\n",
              " 'nearly': 120,\n",
              " 'countries': 121,\n",
              " 'presenters': 122,\n",
              " 'over': 123,\n",
              " 'training': 124,\n",
              " 'focus': 125,\n",
              " 'transition': 126,\n",
              " 'returning': 127,\n",
              " 'office': 128,\n",
              " 'hybrid': 129,\n",
              " 'supported': 130,\n",
              " 'change': 131,\n",
              " 'processes': 132,\n",
              " 'business': 133,\n",
              " 'process': 134,\n",
              " 'programme': 135,\n",
              " 'using': 136,\n",
              " 'systems': 137,\n",
              " 'platform': 138,\n",
              " 'navigator': 139,\n",
              " 'access': 140,\n",
              " 'developed': 141,\n",
              " 'regulators': 142,\n",
              " 'narrowscope': 143,\n",
              " 'exposure': 144,\n",
              " 'proposing': 145,\n",
              " 'decisions': 146,\n",
              " 'applying': 147,\n",
              " 'comprehensive': 148,\n",
              " 'developing': 149,\n",
              " 'projects': 150,\n",
              " 'technical': 151,\n",
              " 'publish': 152,\n",
              " 'notforprofit': 153,\n",
              " 'organisationestablished': 154,\n",
              " 'developin': 155,\n",
              " 'interesthighqualityunderstandable': 156,\n",
              " 'enforceable': 157,\n",
              " 'globally': 158,\n",
              " 'accepted': 159,\n",
              " 'general': 160,\n",
              " 'purpose': 161,\n",
              " 'promote': 162,\n",
              " 'adoption': 163,\n",
              " 'oversee': 164,\n",
              " 'two': 165,\n",
              " 'boards': 166,\n",
              " 'they': 167,\n",
              " 'turn': 168,\n",
              " 'accountable': 169,\n",
              " 'monitoring': 170,\n",
              " 'authorities': 171,\n",
              " 'mission': 172,\n",
              " 'bring': 173,\n",
              " 'transparency': 174,\n",
              " 'accountability': 175,\n",
              " 'efficiency': 176,\n",
              " 'markets': 177,\n",
              " 'serves': 178,\n",
              " 'interest': 179,\n",
              " 'fostering': 180,\n",
              " 'trust': 181,\n",
              " 'growth': 182,\n",
              " 'longterm': 183,\n",
              " 'stability': 184,\n",
              " 'economy': 185,\n",
              " 'covers': 186,\n",
              " 'ended': 187,\n",
              " '31': 188,\n",
              " 'december': 189,\n",
              " 'authorised': 190,\n",
              " 'issue': 191,\n",
              " 'march': 192,\n",
              " 'sought': 193,\n",
              " 'keep': 194,\n",
              " 'concise': 195,\n",
              " 'links': 196,\n",
              " 'if': 197,\n",
              " 'you': 198,\n",
              " 'questions': 199,\n",
              " 'please': 200,\n",
              " 'email': 201,\n",
              " 'communicationsifrsorg': 202,\n",
              " 'twenty': 203,\n",
              " 'years': 204,\n",
              " 'ago': 205,\n",
              " 'then': 206,\n",
              " 'iasc': 207,\n",
              " 'set': 208,\n",
              " 'out': 209,\n",
              " 'ambitious': 210,\n",
              " 'journey': 211,\n",
              " 'create': 212,\n",
              " 'now': 213,\n",
              " 'demandled': 214,\n",
              " 'initiative': 215,\n",
              " 'responding': 216,\n",
              " 'needs': 217,\n",
              " 'compare': 218,\n",
              " 'likeforlike': 219,\n",
              " 'gained': 220,\n",
              " 'momentum': 221,\n",
              " 'following': 222,\n",
              " 'asian': 223,\n",
              " 'market': 224,\n",
              " 'failures': 225,\n",
              " 'today': 226,\n",
              " 'required': 227,\n",
              " 'jurisdictions': 228,\n",
              " 'worlds': 229,\n",
              " 'closest': 230,\n",
              " 'thing': 231,\n",
              " 'truly': 232,\n",
              " 'moreover': 233,\n",
              " 'international': 234,\n",
              " 'standardsetting': 235,\n",
              " 'held': 236,\n",
              " 'high': 237,\n",
              " 'regard': 238,\n",
              " 'integral': 239,\n",
              " 'part': 240,\n",
              " 'fabric': 241,\n",
              " 'said': 242,\n",
              " 'goodbye': 243,\n",
              " 'hoogervorst': 244,\n",
              " 'after': 245,\n",
              " 'he': 246,\n",
              " 'had': 247,\n",
              " 'completed': 248,\n",
              " 'second': 249,\n",
              " 'fiveyear': 250,\n",
              " 'term': 251,\n",
              " 'chair': 252,\n",
              " 'strong': 253,\n",
              " 'effective': 254,\n",
              " 'leadershiphelping': 255,\n",
              " 'navigate': 256,\n",
              " 'among': 257,\n",
              " 'things': 258,\n",
              " 'introduction': 259,\n",
              " 'major': 260,\n",
              " 'enhancements': 261,\n",
              " 'instruments': 262,\n",
              " 'lease': 263,\n",
              " 'well': 264,\n",
              " 'revenue': 265,\n",
              " 'pleased': 266,\n",
              " 'welcome': 267,\n",
              " 'barckow': 268,\n",
              " 'hanss': 269,\n",
              " 'successor': 270,\n",
              " 'already': 271,\n",
              " 'impact': 272,\n",
              " 'look': 273,\n",
              " 'forward': 274,\n",
              " 'seeing': 275,\n",
              " 'under': 276,\n",
              " 'finally': 277,\n",
              " 'let': 278,\n",
              " 'me': 279,\n",
              " 'say': 280,\n",
              " 'few': 281,\n",
              " 'words': 282,\n",
              " 'about': 283,\n",
              " 'challenging': 284,\n",
              " 'backdrop': 285,\n",
              " 'presented': 286,\n",
              " 'many': 287,\n",
              " 'difficulties': 288,\n",
              " 'first': 289,\n",
              " 'thought': 290,\n",
              " 'must': 291,\n",
              " 'always': 292,\n",
              " 'be': 293,\n",
              " 'those': 294,\n",
              " 'directly': 295,\n",
              " 'affected': 296,\n",
              " 'virus': 297,\n",
              " 'keeping': 298,\n",
              " 'values': 299,\n",
              " 'put': 300,\n",
              " 'peoples': 301,\n",
              " 'firstboth': 302,\n",
              " 'direction': 303,\n",
              " 'uncertain': 304,\n",
              " 'seek': 305,\n",
              " 'learned': 306,\n",
              " 'such': 307,\n",
              " 'collaboration': 308,\n",
              " 'flexible': 309,\n",
              " 'widespread': 310,\n",
              " 'strategic': 311,\n",
              " 'particularly': 312,\n",
              " 'sustainabilityrelated': 313,\n",
              " 'disclosures': 314,\n",
              " 'outreach': 315,\n",
              " 'range': 316,\n",
              " 'documents': 317,\n",
              " 'standardsetters': 318,\n",
              " 'september': 319,\n",
              " 'participants': 320,\n",
              " '70': 321,\n",
              " '30': 322,\n",
              " 'june': 323,\n",
              " '270': 324,\n",
              " 'delegates': 325,\n",
              " '50': 326,\n",
              " '40': 327,\n",
              " 'efforts': 328,\n",
              " 'coaching': 329,\n",
              " 'career': 330,\n",
              " 'progression': 331,\n",
              " 'throughout': 332,\n",
              " 'period': 333,\n",
              " 'remote': 334,\n",
              " 'due': 335,\n",
              " 'providing': 336,\n",
              " 'giving': 337,\n",
              " 'priority': 338,\n",
              " 'physical': 339,\n",
              " 'mental': 340,\n",
              " 'significant': 341,\n",
              " 'levels': 342,\n",
              " 'creation': 343,\n",
              " 'regular': 344,\n",
              " 'open': 345,\n",
              " 'communication': 346,\n",
              " 'implemented': 347,\n",
              " 'upgraded': 348,\n",
              " 'infrastructure': 349,\n",
              " 'safe': 350,\n",
              " 'place': 351,\n",
              " 'restrictions': 352,\n",
              " 'allowed': 353,\n",
              " 'progress': 354,\n",
              " 'areas': 355,\n",
              " 'improve': 356,\n",
              " 'digitally': 357,\n",
              " 'engage': 358,\n",
              " 'modern': 359,\n",
              " 'implementing': 360,\n",
              " 'customer': 361,\n",
              " 'relationship': 362,\n",
              " 'management': 363,\n",
              " 'introduced': 364,\n",
              " 'which': 365,\n",
              " 'improved': 366,\n",
              " 'web': 367,\n",
              " 'users': 368,\n",
              " 'maintained': 369,\n",
              " 'internal': 370,\n",
              " 'updates': 371,\n",
              " 'reflecting': 372,\n",
              " 'improvements': 373,\n",
              " 'underpinning': 374,\n",
              " 'explored': 375,\n",
              " 'implications': 376,\n",
              " 'some': 377,\n",
              " 'presentation': 378,\n",
              " 'proposals': 379,\n",
              " 'adopting': 380,\n",
              " 'deepened': 381,\n",
              " 'partners': 382,\n",
              " 'community': 383,\n",
              " 'consumption': 384,\n",
              " 'early': 385,\n",
              " 'exploratory': 386,\n",
              " 'input': 387,\n",
              " 'strategy': 388,\n",
              " 'several': 389,\n",
              " 'final': 390,\n",
              " 'drafts': 391,\n",
              " 'responded': 392,\n",
              " 'submissions': 393,\n",
              " 'interpretations': 394,\n",
              " 'committee': 395,\n",
              " 'educational': 396,\n",
              " 'going': 397,\n",
              " 'concern': 398,\n",
              " 'worked': 399,\n",
              " 'reduce': 400,\n",
              " 'unnecessary': 401,\n",
              " 'complexity': 402,\n",
              " 'cost': 403,\n",
              " 'preparers': 404,\n",
              " 'while': 405,\n",
              " 'improving': 406,\n",
              " 'quality': 407,\n",
              " 'drafted': 408,\n",
              " 'clear': 409,\n",
              " 'dedicated': 410,\n",
              " 'editorial': 411,\n",
              " 'translation': 412,\n",
              " 'teams': 413,\n",
              " 'external': 414,\n",
              " 'reviewers': 415,\n",
              " 'related': 416,\n",
              " 'accessible': 417,\n",
              " 'example': 418,\n",
              " 'annotations': 419,\n",
              " 'crossreferences': 420,\n",
              " 'semiannual': 421,\n",
              " 'compilations': 422,\n",
              " 'continuing': 423,\n",
              " 'build': 424,\n",
              " 'content': 425,\n",
              " 'modernised': 426,\n",
              " 'launched': 427,\n",
              " 'analysed': 428,\n",
              " 'request': 429,\n",
              " '2020': 430,\n",
              " 'possible': 431,\n",
              " 'changes': 432,\n",
              " 'reflect': 433,\n",
              " 'complete': 434,\n",
              " 'consolidation': 435,\n",
              " 'cdsb': 436,\n",
              " 'vrf': 437,\n",
              " 'operating': 438,\n",
              " 'model': 439,\n",
              " 'building': 440,\n",
              " 'resources': 441,\n",
              " 'expertise': 442,\n",
              " 'development': 443,\n",
              " 'organisational': 444,\n",
              " 'rollout': 445,\n",
              " 'finance': 446,\n",
              " 'database': 447,\n",
              " 'incorporate': 448,\n",
              " 'deepen': 449,\n",
              " 'broaden': 450,\n",
              " 'postpandemic': 451,\n",
              " 'monitor': 452,\n",
              " 'oneyear': 453,\n",
              " 'hybridworking': 454,\n",
              " 'trial': 455,\n",
              " 'adopts': 456,\n",
              " 'best': 457,\n",
              " 'ahead': 458,\n",
              " 'consider': 459,\n",
              " 'own': 460,\n",
              " 'measuring': 461,\n",
              " 'analysing': 462,\n",
              " 'statement': 463,\n",
              " 'finalise': 464,\n",
              " '2026': 465,\n",
              " 'third': 466,\n",
              " 'advance': 467,\n",
              " 'primary': 468,\n",
              " 'statements': 469,\n",
              " 'goodwill': 470,\n",
              " 'impairment': 471,\n",
              " 'consistent': 472,\n",
              " 'application': 473,\n",
              " 'considering': 474,\n",
              " 'ways': 475,\n",
              " 'increase': 476,\n",
              " 'understandability': 477,\n",
              " 'accessibility': 478,\n",
              " 'adopt': 479,\n",
              " 'draft': 480,\n",
              " 'informed': 481,\n",
              " 'assess': 482,\n",
              " 'whether': 483,\n",
              " 'intended': 484,\n",
              " 'completing': 485,\n",
              " 'group': 486,\n",
              " '10': 487,\n",
              " '11': 488,\n",
              " '12': 489,\n",
              " '9': 490,\n",
              " 'classification': 491,\n",
              " 'measurement': 492,\n",
              " 'beginning': 493,\n",
              " '15': 494,\n",
              " 'close': 495,\n",
              " 'cooperation': 496,\n",
              " 'alignment': 497,\n",
              " 'compatibility': 498,\n",
              " 'between': 499}"
            ]
          },
          "metadata": {},
          "execution_count": 68
        }
      ]
    },
    {
      "cell_type": "code",
      "source": [
        "#for every sentence we try to predict the next word (from the 1st word and appending until the sentence is over)\n",
        "input_data = []\n",
        "for s in train_data:\n",
        "    list_tokens = tokenizer.texts_to_sequences([s])[0]\n",
        "    for i in range(1, len(list_tokens)):\n",
        "        actual = list_tokens[:i+1]\n",
        "        input_data.append(actual)"
      ],
      "metadata": {
        "id": "M6R6zgTK_Sov"
      },
      "execution_count": 76,
      "outputs": []
    },
    {
      "cell_type": "code",
      "source": [
        "input_data[:15]\n",
        "#cause the first sentence is long"
      ],
      "metadata": {
        "colab": {
          "base_uri": "https://localhost:8080/"
        },
        "id": "TqI46Hx8_zKM",
        "outputId": "7fdfff9a-d050-41e6-ff65-427ce8eb8d14"
      },
      "execution_count": 81,
      "outputs": [
        {
          "output_type": "execute_result",
          "data": {
            "text/plain": [
              "[[1, 4],\n",
              " [1, 4, 17],\n",
              " [1, 4, 17, 27],\n",
              " [1, 4, 17, 27, 10],\n",
              " [1, 4, 17, 27, 10, 153],\n",
              " [1, 4, 17, 27, 10, 153, 154],\n",
              " [1, 4, 17, 27, 10, 153, 154, 3],\n",
              " [1, 4, 17, 27, 10, 153, 154, 3, 155],\n",
              " [1, 4, 17, 27, 10, 153, 154, 3, 155, 1],\n",
              " [1, 4, 17, 27, 10, 153, 154, 3, 155, 1, 46],\n",
              " [1, 4, 17, 27, 10, 153, 154, 3, 155, 1, 46, 156],\n",
              " [1, 4, 17, 27, 10, 153, 154, 3, 155, 1, 46, 156, 157],\n",
              " [1, 4, 17, 27, 10, 153, 154, 3, 155, 1, 46, 156, 157, 2],\n",
              " [1, 4, 17, 27, 10, 153, 154, 3, 155, 1, 46, 156, 157, 2, 158],\n",
              " [1, 4, 17, 27, 10, 153, 154, 3, 155, 1, 46, 156, 157, 2, 158, 159]]"
            ]
          },
          "metadata": {},
          "execution_count": 81
        }
      ]
    },
    {
      "cell_type": "code",
      "source": [
        "input_data.shape"
      ],
      "metadata": {
        "colab": {
          "base_uri": "https://localhost:8080/",
          "height": 165
        },
        "id": "FSM9Hoc26eri",
        "outputId": "a96eccfb-f415-4a92-cf9c-f28c56d98bd6"
      },
      "execution_count": 82,
      "outputs": [
        {
          "output_type": "error",
          "ename": "AttributeError",
          "evalue": "ignored",
          "traceback": [
            "\u001b[0;31m---------------------------------------------------------------------------\u001b[0m",
            "\u001b[0;31mAttributeError\u001b[0m                            Traceback (most recent call last)",
            "\u001b[0;32m<ipython-input-82-b52816c0efef>\u001b[0m in \u001b[0;36m<cell line: 1>\u001b[0;34m()\u001b[0m\n\u001b[0;32m----> 1\u001b[0;31m \u001b[0minput_data\u001b[0m\u001b[0;34m.\u001b[0m\u001b[0mshape\u001b[0m\u001b[0;34m\u001b[0m\u001b[0;34m\u001b[0m\u001b[0m\n\u001b[0m",
            "\u001b[0;31mAttributeError\u001b[0m: 'list' object has no attribute 'shape'"
          ]
        }
      ]
    },
    {
      "cell_type": "code",
      "source": [
        "tokenizer.texts_to_sequences([sentences[0].text])[0],sentences[0]\n",
        "#our first sentence & it's numeric format"
      ],
      "metadata": {
        "colab": {
          "base_uri": "https://localhost:8080/"
        },
        "id": "jt6-84SDbODP",
        "outputId": "bd059dbd-f62b-4051-b989-171ecfb97064"
      },
      "execution_count": 84,
      "outputs": [
        {
          "output_type": "execute_result",
          "data": {
            "text/plain": [
              "([1,\n",
              "  4,\n",
              "  17,\n",
              "  27,\n",
              "  10,\n",
              "  9,\n",
              "  154,\n",
              "  3,\n",
              "  1,\n",
              "  46,\n",
              "  157,\n",
              "  2,\n",
              "  158,\n",
              "  159,\n",
              "  6,\n",
              "  2,\n",
              "  47,\n",
              "  48,\n",
              "  7,\n",
              "  9,\n",
              "  160,\n",
              "  161,\n",
              "  13,\n",
              "  18,\n",
              "  2,\n",
              "  3,\n",
              "  162,\n",
              "  2,\n",
              "  87,\n",
              "  49,\n",
              "  163],\n",
              " The IFRS Foundation is a not-for-profit organisationestablished to develop—in the public interest—highquality,understandable, enforceable and globally accepted accounting and sustainability disclosure standards for general purpose financial reporting, and to promote and facilitate their adoption.)"
            ]
          },
          "metadata": {},
          "execution_count": 84
        }
      ]
    },
    {
      "cell_type": "code",
      "source": [
        "#the length of the sentences are not equal so we need to pad: \n",
        "  #we can use the max length of the sentences but we'll use the length covered by the most (95%) of the sentences which is: \n",
        "import numpy as np\n",
        "lengths=np.array([len(x) for x in input_data])\n",
        "lengths"
      ],
      "metadata": {
        "colab": {
          "base_uri": "https://localhost:8080/"
        },
        "id": "mdF87xvUBt3s",
        "outputId": "5b1774fe-2e2e-40cf-e5f8-16a2e8f707bc"
      },
      "execution_count": 92,
      "outputs": [
        {
          "output_type": "execute_result",
          "data": {
            "text/plain": [
              "array([ 2,  3,  4, ..., 65, 66, 67])"
            ]
          },
          "metadata": {},
          "execution_count": 92
        }
      ]
    },
    {
      "cell_type": "code",
      "source": [
        "max_len=round(np.percentile(lengths,95))\n",
        "max_len"
      ],
      "metadata": {
        "colab": {
          "base_uri": "https://localhost:8080/"
        },
        "id": "iDoLc8ytCxGl",
        "outputId": "98944f6a-9ed1-4f8d-ae41-4b116e28432f"
      },
      "execution_count": 97,
      "outputs": [
        {
          "output_type": "execute_result",
          "data": {
            "text/plain": [
              "44"
            ]
          },
          "metadata": {},
          "execution_count": 97
        }
      ]
    },
    {
      "cell_type": "code",
      "source": [
        "from keras.utils import pad_sequences\n",
        "input_data = np.array(pad_sequences(input_data, maxlen=max_len, padding='pre'))\n",
        "input_data.shape"
      ],
      "metadata": {
        "colab": {
          "base_uri": "https://localhost:8080/"
        },
        "id": "elvDzOSWC8NH",
        "outputId": "20f6474a-fa4a-4175-ac48-d9bbe13eb17d"
      },
      "execution_count": 98,
      "outputs": [
        {
          "output_type": "execute_result",
          "data": {
            "text/plain": [
              "(1135, 44)"
            ]
          },
          "metadata": {},
          "execution_count": 98
        }
      ]
    },
    {
      "cell_type": "code",
      "source": [
        "#and here's our input data's format we need to create X and y where y will be the last value of each (4 17 27 ect)\n",
        "input_data"
      ],
      "metadata": {
        "colab": {
          "base_uri": "https://localhost:8080/"
        },
        "id": "YW8l2YW4DSKg",
        "outputId": "92927cb3-1c02-4d2e-ffce-40ece3420665"
      },
      "execution_count": 100,
      "outputs": [
        {
          "output_type": "execute_result",
          "data": {
            "text/plain": [
              "array([[  0,   0,   0, ...,   0,   1,   4],\n",
              "       [  0,   0,   0, ...,   1,   4,  17],\n",
              "       [  0,   0,   0, ...,   4,  17,  27],\n",
              "       ...,\n",
              "       [487,   4, 488, ...,   2,   4,  47],\n",
              "       [  4, 488,   2, ...,   4,  47,  48],\n",
              "       [488,   2,   4, ...,  47,  48,   7]], dtype=int32)"
            ]
          },
          "metadata": {},
          "execution_count": 100
        }
      ]
    },
    {
      "cell_type": "code",
      "source": [
        "X,y=input_data[:,:-1],input_data[:,-1]"
      ],
      "metadata": {
        "id": "Rybq-HLMDpzy"
      },
      "execution_count": 122,
      "outputs": []
    },
    {
      "cell_type": "code",
      "source": [
        "X,y"
      ],
      "metadata": {
        "colab": {
          "base_uri": "https://localhost:8080/"
        },
        "id": "INqT15bMD9zl",
        "outputId": "1d65bd92-a4e0-42f6-aec0-632400ca29f9"
      },
      "execution_count": 123,
      "outputs": [
        {
          "output_type": "execute_result",
          "data": {
            "text/plain": [
              "(array([[  0,   0,   0, ...,   0,   0,   1],\n",
              "        [  0,   0,   0, ...,   0,   1,   4],\n",
              "        [  0,   0,   0, ...,   1,   4,  17],\n",
              "        ...,\n",
              "        [487,   4, 488, ...,   7,   2,   4],\n",
              "        [  4, 488,   2, ...,   2,   4,  47],\n",
              "        [488,   2,   4, ...,   4,  47,  48]], dtype=int32),\n",
              " array([ 4, 17, 27, ..., 47, 48,  7], dtype=int32))"
            ]
          },
          "metadata": {},
          "execution_count": 123
        }
      ]
    },
    {
      "cell_type": "code",
      "source": [
        "for i in range(10):\n",
        "  print(X[i])\n",
        "  print(\"************************\")"
      ],
      "metadata": {
        "colab": {
          "base_uri": "https://localhost:8080/"
        },
        "id": "cbhB3pbRamYy",
        "outputId": "c3e39000-61f3-4871-edf7-1f910281df3c"
      },
      "execution_count": 124,
      "outputs": [
        {
          "output_type": "stream",
          "name": "stdout",
          "text": [
            "[0 0 0 0 0 0 0 0 0 0 0 0 0 0 0 0 0 0 0 0 0 0 0 0 0 0 0 0 0 0 0 0 0 0 0 0 0\n",
            " 0 0 0 0 0 1]\n",
            "************************\n",
            "[0 0 0 0 0 0 0 0 0 0 0 0 0 0 0 0 0 0 0 0 0 0 0 0 0 0 0 0 0 0 0 0 0 0 0 0 0\n",
            " 0 0 0 0 1 4]\n",
            "************************\n",
            "[ 0  0  0  0  0  0  0  0  0  0  0  0  0  0  0  0  0  0  0  0  0  0  0  0\n",
            "  0  0  0  0  0  0  0  0  0  0  0  0  0  0  0  0  1  4 17]\n",
            "************************\n",
            "[ 0  0  0  0  0  0  0  0  0  0  0  0  0  0  0  0  0  0  0  0  0  0  0  0\n",
            "  0  0  0  0  0  0  0  0  0  0  0  0  0  0  0  1  4 17 27]\n",
            "************************\n",
            "[ 0  0  0  0  0  0  0  0  0  0  0  0  0  0  0  0  0  0  0  0  0  0  0  0\n",
            "  0  0  0  0  0  0  0  0  0  0  0  0  0  0  1  4 17 27 10]\n",
            "************************\n",
            "[  0   0   0   0   0   0   0   0   0   0   0   0   0   0   0   0   0   0\n",
            "   0   0   0   0   0   0   0   0   0   0   0   0   0   0   0   0   0   0\n",
            "   0   1   4  17  27  10 153]\n",
            "************************\n",
            "[  0   0   0   0   0   0   0   0   0   0   0   0   0   0   0   0   0   0\n",
            "   0   0   0   0   0   0   0   0   0   0   0   0   0   0   0   0   0   0\n",
            "   1   4  17  27  10 153 154]\n",
            "************************\n",
            "[  0   0   0   0   0   0   0   0   0   0   0   0   0   0   0   0   0   0\n",
            "   0   0   0   0   0   0   0   0   0   0   0   0   0   0   0   0   0   1\n",
            "   4  17  27  10 153 154   3]\n",
            "************************\n",
            "[  0   0   0   0   0   0   0   0   0   0   0   0   0   0   0   0   0   0\n",
            "   0   0   0   0   0   0   0   0   0   0   0   0   0   0   0   0   1   4\n",
            "  17  27  10 153 154   3 155]\n",
            "************************\n",
            "[  0   0   0   0   0   0   0   0   0   0   0   0   0   0   0   0   0   0\n",
            "   0   0   0   0   0   0   0   0   0   0   0   0   0   0   0   1   4  17\n",
            "  27  10 153 154   3 155   1]\n",
            "************************\n"
          ]
        }
      ]
    },
    {
      "cell_type": "code",
      "source": [
        "X.shape,y.shape"
      ],
      "metadata": {
        "colab": {
          "base_uri": "https://localhost:8080/"
        },
        "id": "avtqxCXPambq",
        "outputId": "6079c3fc-d81b-4106-cf03-2f29bff1f244"
      },
      "execution_count": 125,
      "outputs": [
        {
          "output_type": "execute_result",
          "data": {
            "text/plain": [
              "((1135, 43), (1135,))"
            ]
          },
          "metadata": {},
          "execution_count": 125
        }
      ]
    },
    {
      "cell_type": "code",
      "source": [
        "import tensorflow as tf\n",
        "\n",
        "def create_model(vocabulary_size, seq_len):\n",
        "    model = tf.keras.models.Sequential()\n",
        "    model.add(tf.keras.layers.Embedding(vocabulary_size, 25, input_length=seq_len))\n",
        "    model.add(tf.keras.layers.LSTM(150, return_sequences=True))\n",
        "    model.add(tf.keras.layers.LSTM(150))\n",
        "    model.add(tf.keras.layers.Dense(150, activation='relu'))\n",
        "\n",
        "    model.add(tf.keras.layers.Dense(vocabulary_size, activation='softmax'))\n",
        "    \n",
        "    model.compile(loss='categorical_crossentropy', optimizer='adam', metrics=['accuracy'])\n",
        "   \n",
        "    model.summary()\n",
        "    \n",
        "    return model"
      ],
      "metadata": {
        "id": "dCkemugBETtL"
      },
      "execution_count": 126,
      "outputs": []
    },
    {
      "cell_type": "code",
      "source": [
        "model = create_model(total_words, max_len-1)\n"
      ],
      "metadata": {
        "colab": {
          "base_uri": "https://localhost:8080/"
        },
        "id": "6riESXANEtN5",
        "outputId": "4b539585-87dd-4c36-8714-3822f763236d"
      },
      "execution_count": 127,
      "outputs": [
        {
          "output_type": "stream",
          "name": "stdout",
          "text": [
            "Model: \"sequential_5\"\n",
            "_________________________________________________________________\n",
            " Layer (type)                Output Shape              Param #   \n",
            "=================================================================\n",
            " embedding_5 (Embedding)     (None, 43, 25)            12500     \n",
            "                                                                 \n",
            " lstm_9 (LSTM)               (None, 43, 150)           105600    \n",
            "                                                                 \n",
            " lstm_10 (LSTM)              (None, 150)               180600    \n",
            "                                                                 \n",
            " dense_5 (Dense)             (None, 150)               22650     \n",
            "                                                                 \n",
            " dense_6 (Dense)             (None, 500)               75500     \n",
            "                                                                 \n",
            "=================================================================\n",
            "Total params: 396,850\n",
            "Trainable params: 396,850\n",
            "Non-trainable params: 0\n",
            "_________________________________________________________________\n"
          ]
        }
      ]
    },
    {
      "cell_type": "code",
      "source": [
        "from keras.utils import to_categorical\n",
        "y = to_categorical(y, num_classes=total_words)"
      ],
      "metadata": {
        "id": "zRh40tBEFvAm"
      },
      "execution_count": 128,
      "outputs": []
    },
    {
      "cell_type": "code",
      "source": [
        "model.fit(X, y, epochs=60, verbose=1)\n"
      ],
      "metadata": {
        "colab": {
          "base_uri": "https://localhost:8080/"
        },
        "id": "FEzJXsXaamkM",
        "outputId": "e0f300f8-818b-48c8-fbfd-7343b6602cb8"
      },
      "execution_count": 130,
      "outputs": [
        {
          "output_type": "stream",
          "name": "stdout",
          "text": [
            "Epoch 1/60\n",
            "36/36 [==============================] - 6s 157ms/step - loss: 1.2684 - accuracy: 0.6749\n",
            "Epoch 2/60\n",
            "36/36 [==============================] - 7s 200ms/step - loss: 1.2397 - accuracy: 0.6722\n",
            "Epoch 3/60\n",
            "36/36 [==============================] - 6s 158ms/step - loss: 1.1645 - accuracy: 0.6969\n",
            "Epoch 4/60\n",
            "36/36 [==============================] - 7s 199ms/step - loss: 1.1129 - accuracy: 0.7172\n",
            "Epoch 5/60\n",
            "36/36 [==============================] - 6s 160ms/step - loss: 1.0722 - accuracy: 0.7189\n",
            "Epoch 6/60\n",
            "36/36 [==============================] - 7s 199ms/step - loss: 1.0180 - accuracy: 0.7419\n",
            "Epoch 7/60\n",
            "36/36 [==============================] - 6s 157ms/step - loss: 0.9732 - accuracy: 0.7621\n",
            "Epoch 8/60\n",
            "36/36 [==============================] - 7s 201ms/step - loss: 0.9405 - accuracy: 0.7595\n",
            "Epoch 9/60\n",
            "36/36 [==============================] - 6s 156ms/step - loss: 0.8926 - accuracy: 0.7974\n",
            "Epoch 10/60\n",
            "36/36 [==============================] - 7s 200ms/step - loss: 0.8497 - accuracy: 0.8018\n",
            "Epoch 11/60\n",
            "36/36 [==============================] - 6s 157ms/step - loss: 0.8309 - accuracy: 0.7965\n",
            "Epoch 12/60\n",
            "36/36 [==============================] - 7s 195ms/step - loss: 0.7879 - accuracy: 0.8194\n",
            "Epoch 13/60\n",
            "36/36 [==============================] - 6s 161ms/step - loss: 0.7478 - accuracy: 0.8220\n",
            "Epoch 14/60\n",
            "36/36 [==============================] - 7s 191ms/step - loss: 0.7118 - accuracy: 0.8449\n",
            "Epoch 15/60\n",
            "36/36 [==============================] - 6s 160ms/step - loss: 0.6835 - accuracy: 0.8458\n",
            "Epoch 16/60\n",
            "36/36 [==============================] - 7s 191ms/step - loss: 0.6622 - accuracy: 0.8511\n",
            "Epoch 17/60\n",
            "36/36 [==============================] - 6s 162ms/step - loss: 0.6466 - accuracy: 0.8520\n",
            "Epoch 18/60\n",
            "36/36 [==============================] - 7s 188ms/step - loss: 0.6230 - accuracy: 0.8599\n",
            "Epoch 19/60\n",
            "36/36 [==============================] - 6s 166ms/step - loss: 0.5955 - accuracy: 0.8661\n",
            "Epoch 20/60\n",
            "36/36 [==============================] - 7s 186ms/step - loss: 0.5529 - accuracy: 0.8811\n",
            "Epoch 21/60\n",
            "36/36 [==============================] - 6s 167ms/step - loss: 0.5178 - accuracy: 0.8960\n",
            "Epoch 22/60\n",
            "36/36 [==============================] - 7s 182ms/step - loss: 0.4964 - accuracy: 0.9066\n",
            "Epoch 23/60\n",
            "36/36 [==============================] - 6s 171ms/step - loss: 0.4804 - accuracy: 0.8969\n",
            "Epoch 24/60\n",
            "36/36 [==============================] - 7s 183ms/step - loss: 0.4464 - accuracy: 0.9181\n",
            "Epoch 25/60\n",
            "36/36 [==============================] - 6s 170ms/step - loss: 0.4275 - accuracy: 0.9137\n",
            "Epoch 26/60\n",
            "36/36 [==============================] - 6s 173ms/step - loss: 0.4066 - accuracy: 0.9242\n",
            "Epoch 27/60\n",
            "36/36 [==============================] - 7s 177ms/step - loss: 0.4025 - accuracy: 0.9198\n",
            "Epoch 28/60\n",
            "36/36 [==============================] - 6s 173ms/step - loss: 0.3844 - accuracy: 0.9278\n",
            "Epoch 29/60\n",
            "36/36 [==============================] - 7s 180ms/step - loss: 0.3782 - accuracy: 0.9286\n",
            "Epoch 30/60\n",
            "36/36 [==============================] - 6s 173ms/step - loss: 0.3703 - accuracy: 0.9295\n",
            "Epoch 31/60\n",
            "36/36 [==============================] - 7s 181ms/step - loss: 0.3467 - accuracy: 0.9313\n",
            "Epoch 32/60\n",
            "36/36 [==============================] - 6s 177ms/step - loss: 0.3223 - accuracy: 0.9401\n",
            "Epoch 33/60\n",
            "36/36 [==============================] - 10s 248ms/step - loss: 0.3158 - accuracy: 0.9410\n",
            "Epoch 34/60\n",
            "36/36 [==============================] - 7s 202ms/step - loss: 0.3089 - accuracy: 0.9392\n",
            "Epoch 35/60\n",
            "36/36 [==============================] - 6s 157ms/step - loss: 0.2851 - accuracy: 0.9463\n",
            "Epoch 36/60\n",
            "36/36 [==============================] - 7s 200ms/step - loss: 0.2770 - accuracy: 0.9436\n",
            "Epoch 37/60\n",
            "36/36 [==============================] - 6s 161ms/step - loss: 0.2589 - accuracy: 0.9568\n",
            "Epoch 38/60\n",
            "36/36 [==============================] - 7s 200ms/step - loss: 0.2448 - accuracy: 0.9586\n",
            "Epoch 39/60\n",
            "36/36 [==============================] - 6s 159ms/step - loss: 0.2350 - accuracy: 0.9604\n",
            "Epoch 40/60\n",
            "36/36 [==============================] - 7s 198ms/step - loss: 0.2338 - accuracy: 0.9533\n",
            "Epoch 41/60\n",
            "36/36 [==============================] - 6s 161ms/step - loss: 0.2276 - accuracy: 0.9621\n",
            "Epoch 42/60\n",
            "36/36 [==============================] - 7s 199ms/step - loss: 0.2174 - accuracy: 0.9568\n",
            "Epoch 43/60\n",
            "36/36 [==============================] - 6s 158ms/step - loss: 0.2031 - accuracy: 0.9612\n",
            "Epoch 44/60\n",
            "36/36 [==============================] - 7s 200ms/step - loss: 0.1891 - accuracy: 0.9692\n",
            "Epoch 45/60\n",
            "36/36 [==============================] - 6s 157ms/step - loss: 0.1862 - accuracy: 0.9648\n",
            "Epoch 46/60\n",
            "36/36 [==============================] - 7s 199ms/step - loss: 0.1766 - accuracy: 0.9692\n",
            "Epoch 47/60\n",
            "36/36 [==============================] - 6s 160ms/step - loss: 0.1719 - accuracy: 0.9639\n",
            "Epoch 48/60\n",
            "36/36 [==============================] - 7s 193ms/step - loss: 0.1692 - accuracy: 0.9674\n",
            "Epoch 49/60\n",
            "36/36 [==============================] - 6s 160ms/step - loss: 0.1689 - accuracy: 0.9700\n",
            "Epoch 50/60\n",
            "36/36 [==============================] - 7s 193ms/step - loss: 0.1633 - accuracy: 0.9674\n",
            "Epoch 51/60\n",
            "36/36 [==============================] - 6s 163ms/step - loss: 0.1452 - accuracy: 0.9762\n",
            "Epoch 52/60\n",
            "36/36 [==============================] - 7s 192ms/step - loss: 0.1472 - accuracy: 0.9709\n",
            "Epoch 53/60\n",
            "36/36 [==============================] - 6s 163ms/step - loss: 0.1410 - accuracy: 0.9727\n",
            "Epoch 54/60\n",
            "36/36 [==============================] - 7s 186ms/step - loss: 0.1367 - accuracy: 0.9753\n",
            "Epoch 55/60\n",
            "36/36 [==============================] - 6s 169ms/step - loss: 0.1393 - accuracy: 0.9718\n",
            "Epoch 56/60\n",
            "36/36 [==============================] - 7s 185ms/step - loss: 0.1359 - accuracy: 0.9736\n",
            "Epoch 57/60\n",
            "36/36 [==============================] - 6s 170ms/step - loss: 0.1262 - accuracy: 0.9753\n",
            "Epoch 58/60\n",
            "36/36 [==============================] - 7s 189ms/step - loss: 0.1199 - accuracy: 0.9744\n",
            "Epoch 59/60\n",
            "36/36 [==============================] - 6s 166ms/step - loss: 0.1149 - accuracy: 0.9797\n",
            "Epoch 60/60\n",
            "36/36 [==============================] - 7s 183ms/step - loss: 0.1171 - accuracy: 0.9771\n"
          ]
        },
        {
          "output_type": "execute_result",
          "data": {
            "text/plain": [
              "<keras.callbacks.History at 0x7f494301a520>"
            ]
          },
          "metadata": {},
          "execution_count": 130
        }
      ]
    },
    {
      "cell_type": "code",
      "source": [
        "def generate_text(input_text, num_gen_words, model, max_len,tokenizer):\n",
        "    for _ in range(num_gen_words):\n",
        "\n",
        "        output_text = \"\"\n",
        "\n",
        "        encoded_text = tokenizer.texts_to_sequences([input_text])[0]\n",
        "        padded_encoded = pad_sequences([encoded_text], maxlen=max_len-1, padding='pre')\n",
        "        predicted = model.predict(padded_encoded, verbose=0).argmax()\n",
        "        \n",
        "        for word,index in tokenizer.word_index.items():\n",
        "            if index == predicted:\n",
        "                output_text = word\n",
        "                break\n",
        "        input_text += \" \"+output_text\n",
        "    return input_text.title()"
      ],
      "metadata": {
        "id": "gfvrM-RiWnc0"
      },
      "execution_count": 144,
      "outputs": []
    },
    {
      "cell_type": "code",
      "source": [
        "#let's try to generate some texts\n",
        "print(generate_text(\"The IFRS\", 5, model, max_len,tokenizer))\n",
        "print (generate_text(\"our mission is\", 10, model, max_len,tokenizer))\n"
      ],
      "metadata": {
        "colab": {
          "base_uri": "https://localhost:8080/"
        },
        "id": "hmJ1gMztksw6",
        "outputId": "b333ffcc-a287-44aa-a841-154772541840"
      },
      "execution_count": 147,
      "outputs": [
        {
          "output_type": "stream",
          "name": "stdout",
          "text": [
            "The Ifrs Foundation Trustees Oversee The Two\n",
            "Our Mission Is To Develop Ifrs Standards That Bring Transparency Accountability And Efficiency\n"
          ]
        }
      ]
    }
  ],
  "metadata": {
    "colab": {
      "provenance": []
    },
    "gpuClass": "standard",
    "kernelspec": {
      "display_name": "Python 3",
      "name": "python3"
    },
    "language_info": {
      "name": "python"
    }
  },
  "nbformat": 4,
  "nbformat_minor": 0
}